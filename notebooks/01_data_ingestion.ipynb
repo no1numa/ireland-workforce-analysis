{
 "cells": [
  {
   "cell_type": "code",
   "execution_count": 1,
   "id": "2a9bc378-fc4d-4b3b-8277-dc40e4ea86d9",
   "metadata": {},
   "outputs": [],
   "source": [
    "import sys\n",
    "import os\n",
    "sys.path.append(os.path.abspath(\"../src\"))\n",
    "\n",
    "import requests\n",
    "import json\n",
    "import pandas as pd\n",
    "from pyjstat import pyjstat"
   ]
  },
  {
   "cell_type": "code",
   "execution_count": 2,
   "id": "f575e440-c00d-4815-ae49-a60a6020d8bd",
   "metadata": {},
   "outputs": [],
   "source": [
    "df_to_use = {'QLF01': [],\n",
    "             'QLF03': [],\n",
    "             'QLF05': [],\n",
    "             'QLF07': [],\n",
    "             'QLF08': [],\n",
    "             'QLF18': [],\n",
    "             'QLF20': [],\n",
    "             'QLF21': [],\n",
    "             'QLF25': [],\n",
    "             'QLF26': [],\n",
    "             'QLF32': [],\n",
    "             'QLF33': [],\n",
    "             'QLF34': [],\n",
    "             'QLF35': [],\n",
    "             'QLF36': [],\n",
    "             'QLF47': [],\n",
    "             'QLF48': [],\n",
    "             'QLF49': [],\n",
    "             'QES01': [],\n",
    "             'QES03': [],\n",
    "             'QES06': [],\n",
    "             'QES07': [],\n",
    "             'QES08': [],\n",
    "             'QES11': [],\n",
    "             'QES15': [],\n",
    "             'QES20': [],\n",
    "             'QES21': [],\n",
    "             'QES22': [],\n",
    "             'QES24': [],\n",
    "             'QES25': []}"
   ]
  },
  {
   "cell_type": "code",
   "execution_count": 3,
   "id": "a03c04ee-fb29-467b-98a6-a56438d3f800",
   "metadata": {},
   "outputs": [],
   "source": [
    "from etl import fetch_data\n",
    "# need to use fetch_with_retry here, cuz im writing this in a unstable 4g connection\n",
    "\n",
    "for df in df_to_use:\n",
    "    url_to_use = f\"https://ws.cso.ie/public/api.restful/PxStat.Data.Cube_API.ReadDataset/{df}/JSON-stat/2.0/en\"\n",
    "    \n",
    "    dataset = fetch_data(url_to_use)\n",
    "    df_to_use[df] = dataset.write('dataframe')\n",
    "\n",
    "    #print(f'This is the {df} table')\n",
    "    #display(df_to_use[df].head())\n",
    "    #print('----------------------------')"
   ]
  },
  {
   "cell_type": "code",
   "execution_count": 4,
   "id": "0ab6a685-aac3-4b60-bba4-a6d5f6995ec7",
   "metadata": {},
   "outputs": [],
   "source": [
    "# exporting the dataframes to .csv\n",
    "for df in df_to_use.keys():\n",
    "    df_to_use[df].to_csv(f'../data/raw/{df}.csv', index=False)"
   ]
  },
  {
   "cell_type": "raw",
   "id": "e83b8e7a-e1f0-4bec-a36a-225cb877f7e8",
   "metadata": {},
   "source": [
    "QLF01 - ADULTS, SINCE 1998, SEX, ILO\r\n",
    "QLF03 - ADULTS IN EMPLOYMENT, SINCE 1998, SEX, SECTOR\r\n",
    "QLF05 - ADULTS IN EMPLOYMENT, SINCE 1998, SEX, SECTOR, REGION\r\n",
    "QLF07 - ADULTS IN EMPLOYMENT, SINCE 2012, SEX, SECTOR, REGION\r\n",
    "QLF08 - ADULTS IN EMPLOYMENT, SINCE 2012, REGION\r\n",
    "QLF18 - ADULTS IN LABOUR FORCE, SINCE 1998, AGE GROUP, SEX\r\n",
    "QLF20 - ADULTS IN EMPLOYMENT, SINCE 1998, SEX, USUAL HOURS WORKED\r\n",
    "QLF21 - ADULTS IN EMPLOYMENT, SINCE 1998, NATIONALITY, SECTOR\r\n",
    "QLF25 - ADULTS IN EMPLOYMENT, SINCE 1998, SEX, USUAL HOURS WORKED\r\n",
    "QLF26 - ADULTS, SINCE 1998, ILO\r\n",
    "QLF32 - ADULTS IN EMPLOYMENT, SINCE 1998, SECTOR, SEX\r\n",
    "QLF33 - AVERAGE HOURS WORKED FOR ADULTS, SINCE 1998, SEX\r\n",
    "QLF34 - ADULTS IN EMPLOYMENT, SINCE 1998, NATIONALITY, SECTOR\r\n",
    "QLF35 - ADULTS, SINCE 1998, NATIONALITY, ILO\r\n",
    "QLF36 - ACTUAL HOURS WORKED PER WEEK, SINCE 1998, SECTOR\r\n",
    "QLF47 - ADULTS IN EMPLOYMENT, SINCE 2021, CITIZENSHIP, SECTOR\r\n",
    "QLF48 - ADULTS, SINCE 2021, CITIZENSHIP, ILO\r\n",
    "QLF49 - AVERAGE HOURS WORKED FOR ADULTS, SINCE 1998, AGE GROUP\r\n",
    "QES01 - ADULTS IN EMPLOYMENT (ILO), SINCE 1998, SECTOR\r\n",
    "QES03 - ADULTS IN EMPLOYMENT (ILO), SINCE 1998, OCCUPATIONAL GROUP, SECTOR\r\n",
    "QES06 - ADULTS IN EMPLOYMENT (ILO), SINCE 1998, FULL/PART TIME STATUS, SECTOR\r\n",
    "QES07 - ADULTS IN EMPLOYMENT (ILO), SINCE 1998, FULL/PART TIME STATUS, OCCUPATIONAL GROUP\r\n",
    "QES08 - AVERAGE USUAL HOURS WORKED PER WEEK, SINCE 1998, SECTOR\r\n",
    "QES11 - AVERAGE USUAL HOURS WORKED PER WEEK, SINCE 1998, FULL/PART TIME STATUS\r\n",
    "QES15 - ADULTS IN EMPLOYMENT (ILO), SINCE 1998, PERMANENCY, SECTOR\r\n",
    "QES20 - ADULTS IN EMPLOYMENT (ILO), SINCE 1998, EXTENT OF WORKING AT HOME\r\n",
    "QES21 - ADULTS IN EMPLOYMENT (ILO), SINCE 2001, NUTS3 REGION, EXTENT OF WORKING AT HOME\r\n",
    "QES22 - STUDENTS IN EMPLOYMENT, SINCE 1998, SECTOR\r\n",
    "QES24 - PERSONS IN EMPLOYMENT (ILO), SINCE 1998, FULL/PART TIME STATUS, SEX\r\n",
    "QES25 - ADULTS IN PART-TIME EMPLOYMENT, SINCE 1998, REASON FOR PART TIME EMPLOYMENT, SEX"
   ]
  }
 ],
 "metadata": {
  "kernelspec": {
   "display_name": "Python 3 (ipykernel)",
   "language": "python",
   "name": "python3"
  },
  "language_info": {
   "codemirror_mode": {
    "name": "ipython",
    "version": 3
   },
   "file_extension": ".py",
   "mimetype": "text/x-python",
   "name": "python",
   "nbconvert_exporter": "python",
   "pygments_lexer": "ipython3",
   "version": "3.13.5"
  }
 },
 "nbformat": 4,
 "nbformat_minor": 5
}
